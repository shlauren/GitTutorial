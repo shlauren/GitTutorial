{
 "cells": [
  {
   "cell_type": "code",
   "execution_count": null,
   "metadata": {},
   "outputs": [],
   "source": [
    "import pandas as pd\n",
    "df=pd.read_csv(\"C:/Users/lsheram/Documents/Python Scripts/Data Science Certificate/Popular_Baby_Names.csv\")"
   ]
  },
  {
   "cell_type": "code",
   "execution_count": null,
   "metadata": {},
   "outputs": [],
   "source": [
    "df.head()"
   ]
  },
  {
   "cell_type": "code",
   "execution_count": null,
   "metadata": {},
   "outputs": [],
   "source": [
    "df.columns"
   ]
  },
  {
   "cell_type": "code",
   "execution_count": null,
   "metadata": {},
   "outputs": [],
   "source": [
    "df.at"
   ]
  },
  {
   "cell_type": "code",
   "execution_count": null,
   "metadata": {},
   "outputs": [],
   "source": [
    "first_name = df[\"Child's First Name\"]"
   ]
  },
  {
   "cell_type": "code",
   "execution_count": null,
   "metadata": {},
   "outputs": [],
   "source": [
    "first_letter = []\n",
    "for name in first_name:\n",
    "    first_letter.append(name[0])"
   ]
  },
  {
   "cell_type": "code",
   "execution_count": null,
   "metadata": {},
   "outputs": [],
   "source": [
    "first_letter"
   ]
  },
  {
   "cell_type": "code",
   "execution_count": null,
   "metadata": {},
   "outputs": [],
   "source": [
    "df.count()"
   ]
  },
  {
   "cell_type": "code",
   "execution_count": null,
   "metadata": {},
   "outputs": [],
   "source": [
    "df.head(10)"
   ]
  },
  {
   "cell_type": "code",
   "execution_count": null,
   "metadata": {},
   "outputs": [],
   "source": [
    "df[\"First Letter True\"] = first_letter"
   ]
  },
  {
   "cell_type": "code",
   "execution_count": null,
   "metadata": {},
   "outputs": [],
   "source": [
    "first_letter"
   ]
  },
  {
   "cell_type": "code",
   "execution_count": null,
   "metadata": {},
   "outputs": [],
   "source": [
    "count = first_letter.count(\"A\") \n",
    "print(count)"
   ]
  },
  {
   "cell_type": "code",
   "execution_count": null,
   "metadata": {},
   "outputs": [],
   "source": [
    "df.count(level=\"First Letter True\")"
   ]
  },
  {
   "cell_type": "code",
   "execution_count": null,
   "metadata": {},
   "outputs": [],
   "source": [
    "df[\"First Letter True\"].value_counts(\"Gender\")"
   ]
  },
  {
   "cell_type": "code",
   "execution_count": 77,
   "metadata": {},
   "outputs": [
    {
     "data": {
      "text/plain": [
       "First Letter True  Gender\n",
       "A                  FEMALE    1835\n",
       "                   MALE      1298\n",
       "B                  FEMALE     314\n",
       "                   MALE       409\n",
       "C                  FEMALE     518\n",
       "                   MALE       542\n",
       "D                  FEMALE     250\n",
       "                   MALE       433\n",
       "E                  FEMALE     643\n",
       "                   MALE       582\n",
       "F                  FEMALE     189\n",
       "                   MALE       138\n",
       "G                  FEMALE     301\n",
       "                   MALE       275\n",
       "H                  FEMALE     298\n",
       "                   MALE       212\n",
       "I                  FEMALE     224\n",
       "                   MALE       241\n",
       "J                  FEMALE     655\n",
       "                   MALE      1198\n",
       "K                  FEMALE     537\n",
       "                   MALE       354\n",
       "L                  FEMALE     688\n",
       "                   MALE       475\n",
       "M                  FEMALE     895\n",
       "                   MALE       905\n",
       "N                  FEMALE     348\n",
       "                   MALE       317\n",
       "O                  FEMALE      50\n",
       "                   MALE       146\n",
       "P                  FEMALE     203\n",
       "                   MALE       181\n",
       "Q                  FEMALE      23\n",
       "                   MALE        15\n",
       "R                  FEMALE     305\n",
       "                   MALE       401\n",
       "S                  FEMALE     926\n",
       "                   MALE       531\n",
       "T                  FEMALE     210\n",
       "                   MALE       239\n",
       "U                  MALE        20\n",
       "V                  FEMALE     215\n",
       "                   MALE        74\n",
       "W                  FEMALE      42\n",
       "                   MALE       112\n",
       "X                  FEMALE      14\n",
       "                   MALE        40\n",
       "Y                  FEMALE      91\n",
       "                   MALE       216\n",
       "Z                  FEMALE     159\n",
       "                   MALE       131\n",
       "dtype: int64"
      ]
     },
     "execution_count": 77,
     "metadata": {},
     "output_type": "execute_result"
    }
   ],
   "source": [
    "df.groupby([\"First Letter True\", \"Gender\"]).size()"
   ]
  },
  {
   "cell_type": "code",
   "execution_count": null,
   "metadata": {},
   "outputs": [],
   "source": []
  }
 ],
 "metadata": {
  "kernelspec": {
   "display_name": "Python 3",
   "language": "python",
   "name": "python3"
  },
  "language_info": {
   "codemirror_mode": {
    "name": "ipython",
    "version": 3
   },
   "file_extension": ".py",
   "mimetype": "text/x-python",
   "name": "python",
   "nbconvert_exporter": "python",
   "pygments_lexer": "ipython3",
   "version": "3.7.4"
  }
 },
 "nbformat": 4,
 "nbformat_minor": 4
}
